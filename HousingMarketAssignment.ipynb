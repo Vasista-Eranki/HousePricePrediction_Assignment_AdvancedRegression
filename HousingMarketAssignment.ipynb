{
 "cells": [
  {
   "cell_type": "code",
   "execution_count": 1,
   "id": "862506ba",
   "metadata": {},
   "outputs": [],
   "source": [
    "#Import Required Libraries\n",
    "\n",
    "import pandas as pd\n",
    "import numpy as np\n",
    "import matplotlib.pyplot as plt\n",
    "import seaborn as sns\n",
    "\n",
    "from sklearn.linear_model import LinearRegression, Lasso, Ridge\n",
    "from sklearn.feature_selection import RFE\n",
    "from sklearn.metrics import r2_score, mean_squared_error"
   ]
  },
  {
   "cell_type": "code",
   "execution_count": 2,
   "id": "e0c586ba",
   "metadata": {},
   "outputs": [
    {
     "data": {
      "text/html": [
       "<div>\n",
       "<style scoped>\n",
       "    .dataframe tbody tr th:only-of-type {\n",
       "        vertical-align: middle;\n",
       "    }\n",
       "\n",
       "    .dataframe tbody tr th {\n",
       "        vertical-align: top;\n",
       "    }\n",
       "\n",
       "    .dataframe thead th {\n",
       "        text-align: right;\n",
       "    }\n",
       "</style>\n",
       "<table border=\"1\" class=\"dataframe\">\n",
       "  <thead>\n",
       "    <tr style=\"text-align: right;\">\n",
       "      <th></th>\n",
       "      <th>Id</th>\n",
       "      <th>MSSubClass</th>\n",
       "      <th>MSZoning</th>\n",
       "      <th>LotFrontage</th>\n",
       "      <th>LotArea</th>\n",
       "      <th>Street</th>\n",
       "      <th>Alley</th>\n",
       "      <th>LotShape</th>\n",
       "      <th>LandContour</th>\n",
       "      <th>Utilities</th>\n",
       "      <th>...</th>\n",
       "      <th>PoolArea</th>\n",
       "      <th>PoolQC</th>\n",
       "      <th>Fence</th>\n",
       "      <th>MiscFeature</th>\n",
       "      <th>MiscVal</th>\n",
       "      <th>MoSold</th>\n",
       "      <th>YrSold</th>\n",
       "      <th>SaleType</th>\n",
       "      <th>SaleCondition</th>\n",
       "      <th>SalePrice</th>\n",
       "    </tr>\n",
       "  </thead>\n",
       "  <tbody>\n",
       "    <tr>\n",
       "      <th>0</th>\n",
       "      <td>1</td>\n",
       "      <td>60</td>\n",
       "      <td>RL</td>\n",
       "      <td>65.0</td>\n",
       "      <td>8450</td>\n",
       "      <td>Pave</td>\n",
       "      <td>NaN</td>\n",
       "      <td>Reg</td>\n",
       "      <td>Lvl</td>\n",
       "      <td>AllPub</td>\n",
       "      <td>...</td>\n",
       "      <td>0</td>\n",
       "      <td>NaN</td>\n",
       "      <td>NaN</td>\n",
       "      <td>NaN</td>\n",
       "      <td>0</td>\n",
       "      <td>2</td>\n",
       "      <td>2008</td>\n",
       "      <td>WD</td>\n",
       "      <td>Normal</td>\n",
       "      <td>208500</td>\n",
       "    </tr>\n",
       "    <tr>\n",
       "      <th>1</th>\n",
       "      <td>2</td>\n",
       "      <td>20</td>\n",
       "      <td>RL</td>\n",
       "      <td>80.0</td>\n",
       "      <td>9600</td>\n",
       "      <td>Pave</td>\n",
       "      <td>NaN</td>\n",
       "      <td>Reg</td>\n",
       "      <td>Lvl</td>\n",
       "      <td>AllPub</td>\n",
       "      <td>...</td>\n",
       "      <td>0</td>\n",
       "      <td>NaN</td>\n",
       "      <td>NaN</td>\n",
       "      <td>NaN</td>\n",
       "      <td>0</td>\n",
       "      <td>5</td>\n",
       "      <td>2007</td>\n",
       "      <td>WD</td>\n",
       "      <td>Normal</td>\n",
       "      <td>181500</td>\n",
       "    </tr>\n",
       "    <tr>\n",
       "      <th>2</th>\n",
       "      <td>3</td>\n",
       "      <td>60</td>\n",
       "      <td>RL</td>\n",
       "      <td>68.0</td>\n",
       "      <td>11250</td>\n",
       "      <td>Pave</td>\n",
       "      <td>NaN</td>\n",
       "      <td>IR1</td>\n",
       "      <td>Lvl</td>\n",
       "      <td>AllPub</td>\n",
       "      <td>...</td>\n",
       "      <td>0</td>\n",
       "      <td>NaN</td>\n",
       "      <td>NaN</td>\n",
       "      <td>NaN</td>\n",
       "      <td>0</td>\n",
       "      <td>9</td>\n",
       "      <td>2008</td>\n",
       "      <td>WD</td>\n",
       "      <td>Normal</td>\n",
       "      <td>223500</td>\n",
       "    </tr>\n",
       "    <tr>\n",
       "      <th>3</th>\n",
       "      <td>4</td>\n",
       "      <td>70</td>\n",
       "      <td>RL</td>\n",
       "      <td>60.0</td>\n",
       "      <td>9550</td>\n",
       "      <td>Pave</td>\n",
       "      <td>NaN</td>\n",
       "      <td>IR1</td>\n",
       "      <td>Lvl</td>\n",
       "      <td>AllPub</td>\n",
       "      <td>...</td>\n",
       "      <td>0</td>\n",
       "      <td>NaN</td>\n",
       "      <td>NaN</td>\n",
       "      <td>NaN</td>\n",
       "      <td>0</td>\n",
       "      <td>2</td>\n",
       "      <td>2006</td>\n",
       "      <td>WD</td>\n",
       "      <td>Abnorml</td>\n",
       "      <td>140000</td>\n",
       "    </tr>\n",
       "    <tr>\n",
       "      <th>4</th>\n",
       "      <td>5</td>\n",
       "      <td>60</td>\n",
       "      <td>RL</td>\n",
       "      <td>84.0</td>\n",
       "      <td>14260</td>\n",
       "      <td>Pave</td>\n",
       "      <td>NaN</td>\n",
       "      <td>IR1</td>\n",
       "      <td>Lvl</td>\n",
       "      <td>AllPub</td>\n",
       "      <td>...</td>\n",
       "      <td>0</td>\n",
       "      <td>NaN</td>\n",
       "      <td>NaN</td>\n",
       "      <td>NaN</td>\n",
       "      <td>0</td>\n",
       "      <td>12</td>\n",
       "      <td>2008</td>\n",
       "      <td>WD</td>\n",
       "      <td>Normal</td>\n",
       "      <td>250000</td>\n",
       "    </tr>\n",
       "  </tbody>\n",
       "</table>\n",
       "<p>5 rows × 81 columns</p>\n",
       "</div>"
      ],
      "text/plain": [
       "   Id  MSSubClass MSZoning  LotFrontage  LotArea Street Alley LotShape  \\\n",
       "0   1          60       RL         65.0     8450   Pave   NaN      Reg   \n",
       "1   2          20       RL         80.0     9600   Pave   NaN      Reg   \n",
       "2   3          60       RL         68.0    11250   Pave   NaN      IR1   \n",
       "3   4          70       RL         60.0     9550   Pave   NaN      IR1   \n",
       "4   5          60       RL         84.0    14260   Pave   NaN      IR1   \n",
       "\n",
       "  LandContour Utilities  ... PoolArea PoolQC Fence MiscFeature MiscVal MoSold  \\\n",
       "0         Lvl    AllPub  ...        0    NaN   NaN         NaN       0      2   \n",
       "1         Lvl    AllPub  ...        0    NaN   NaN         NaN       0      5   \n",
       "2         Lvl    AllPub  ...        0    NaN   NaN         NaN       0      9   \n",
       "3         Lvl    AllPub  ...        0    NaN   NaN         NaN       0      2   \n",
       "4         Lvl    AllPub  ...        0    NaN   NaN         NaN       0     12   \n",
       "\n",
       "  YrSold  SaleType  SaleCondition  SalePrice  \n",
       "0   2008        WD         Normal     208500  \n",
       "1   2007        WD         Normal     181500  \n",
       "2   2008        WD         Normal     223500  \n",
       "3   2006        WD        Abnorml     140000  \n",
       "4   2008        WD         Normal     250000  \n",
       "\n",
       "[5 rows x 81 columns]"
      ]
     },
     "execution_count": 2,
     "metadata": {},
     "output_type": "execute_result"
    }
   ],
   "source": [
    "# Read the Data provided\n",
    "data = pd.read_csv('train.csv', header=0)\n",
    "#data = pd.read_csv('train.csv', na_values = 'NAN')\n",
    "data.head()"
   ]
  },
  {
   "cell_type": "markdown",
   "id": "9cf754d9",
   "metadata": {},
   "source": [
    "## Data Analysis"
   ]
  },
  {
   "cell_type": "code",
   "execution_count": 3,
   "id": "b69f332d",
   "metadata": {},
   "outputs": [
    {
     "name": "stdout",
     "output_type": "stream",
     "text": [
      "Shape (1460, 81)\n"
     ]
    }
   ],
   "source": [
    "print(\"Shape\", data.shape)"
   ]
  },
  {
   "cell_type": "markdown",
   "id": "c9e2c264",
   "metadata": {},
   "source": [
    "- The dataset has 1460 Rows and 81 columns"
   ]
  },
  {
   "cell_type": "markdown",
   "id": "948e164d",
   "metadata": {},
   "source": [
    "**The Target Column: Sale Price** "
   ]
  },
  {
   "cell_type": "markdown",
   "id": "955c0977",
   "metadata": {},
   "source": [
    "#### Checking for Skewness on Target Column:"
   ]
  },
  {
   "cell_type": "code",
   "execution_count": 4,
   "id": "f8b7f05f",
   "metadata": {},
   "outputs": [
    {
     "name": "stderr",
     "output_type": "stream",
     "text": [
      "C:\\ProgramData\\Anaconda3\\lib\\site-packages\\seaborn\\distributions.py:2619: FutureWarning: `distplot` is a deprecated function and will be removed in a future version. Please adapt your code to use either `displot` (a figure-level function with similar flexibility) or `histplot` (an axes-level function for histograms).\n",
      "  warnings.warn(msg, FutureWarning)\n"
     ]
    },
    {
     "data": {
      "image/png": "[encoded data removed]",
      "text/plain": [
       "<Figure size 640x480 with 1 Axes>"
      ]
     },
     "metadata": {},
     "output_type": "display_data"
    }
   ],
   "source": [
    "plt.title('Distribution of Sale Price')\n",
    "sns.distplot(data.SalePrice)\n",
    "plt.show()"
   ]
  },
  {
   "cell_type": "markdown",
   "id": "7ff5e2ea",
   "metadata": {},
   "source": [
    "## Data Cleaning"
   ]
  },
  {
   "cell_type": "markdown",
   "id": "6999f8f8",
   "metadata": {},
   "source": [
    "#### Check for Duplicates"
   ]
  },
  {
   "cell_type": "code",
   "execution_count": 5,
   "id": "e57c7d01",
   "metadata": {
    "scrolled": true
   },
   "outputs": [
    {
     "name": "stdout",
     "output_type": "stream",
     "text": [
      "Count of Columns with missing information: 19\n"
     ]
    },
    {
     "data": {
      "text/html": [
       "<div>\n",
       "<style scoped>\n",
       "    .dataframe tbody tr th:only-of-type {\n",
       "        vertical-align: middle;\n",
       "    }\n",
       "\n",
       "    .dataframe tbody tr th {\n",
       "        vertical-align: top;\n",
       "    }\n",
       "\n",
       "    .dataframe thead th {\n",
       "        text-align: right;\n",
       "    }\n",
       "</style>\n",
       "<table border=\"1\" class=\"dataframe\">\n",
       "  <thead>\n",
       "    <tr style=\"text-align: right;\">\n",
       "      <th></th>\n",
       "      <th>Counts</th>\n",
       "      <th>Percentage</th>\n",
       "    </tr>\n",
       "  </thead>\n",
       "  <tbody>\n",
       "    <tr>\n",
       "      <th>PoolQC</th>\n",
       "      <td>1453</td>\n",
       "      <td>99.52</td>\n",
       "    </tr>\n",
       "    <tr>\n",
       "      <th>MiscFeature</th>\n",
       "      <td>1406</td>\n",
       "      <td>96.30</td>\n",
       "    </tr>\n",
       "    <tr>\n",
       "      <th>Alley</th>\n",
       "      <td>1369</td>\n",
       "      <td>93.77</td>\n",
       "    </tr>\n",
       "    <tr>\n",
       "      <th>Fence</th>\n",
       "      <td>1179</td>\n",
       "      <td>80.75</td>\n",
       "    </tr>\n",
       "    <tr>\n",
       "      <th>FireplaceQu</th>\n",
       "      <td>690</td>\n",
       "      <td>47.26</td>\n",
       "    </tr>\n",
       "    <tr>\n",
       "      <th>LotFrontage</th>\n",
       "      <td>259</td>\n",
       "      <td>17.74</td>\n",
       "    </tr>\n",
       "    <tr>\n",
       "      <th>GarageType</th>\n",
       "      <td>81</td>\n",
       "      <td>5.55</td>\n",
       "    </tr>\n",
       "    <tr>\n",
       "      <th>GarageYrBlt</th>\n",
       "      <td>81</td>\n",
       "      <td>5.55</td>\n",
       "    </tr>\n",
       "    <tr>\n",
       "      <th>GarageFinish</th>\n",
       "      <td>81</td>\n",
       "      <td>5.55</td>\n",
       "    </tr>\n",
       "    <tr>\n",
       "      <th>GarageQual</th>\n",
       "      <td>81</td>\n",
       "      <td>5.55</td>\n",
       "    </tr>\n",
       "    <tr>\n",
       "      <th>GarageCond</th>\n",
       "      <td>81</td>\n",
       "      <td>5.55</td>\n",
       "    </tr>\n",
       "    <tr>\n",
       "      <th>BsmtExposure</th>\n",
       "      <td>38</td>\n",
       "      <td>2.60</td>\n",
       "    </tr>\n",
       "    <tr>\n",
       "      <th>BsmtFinType2</th>\n",
       "      <td>38</td>\n",
       "      <td>2.60</td>\n",
       "    </tr>\n",
       "    <tr>\n",
       "      <th>BsmtFinType1</th>\n",
       "      <td>37</td>\n",
       "      <td>2.53</td>\n",
       "    </tr>\n",
       "    <tr>\n",
       "      <th>BsmtCond</th>\n",
       "      <td>37</td>\n",
       "      <td>2.53</td>\n",
       "    </tr>\n",
       "    <tr>\n",
       "      <th>BsmtQual</th>\n",
       "      <td>37</td>\n",
       "      <td>2.53</td>\n",
       "    </tr>\n",
       "    <tr>\n",
       "      <th>MasVnrArea</th>\n",
       "      <td>8</td>\n",
       "      <td>0.55</td>\n",
       "    </tr>\n",
       "    <tr>\n",
       "      <th>MasVnrType</th>\n",
       "      <td>8</td>\n",
       "      <td>0.55</td>\n",
       "    </tr>\n",
       "    <tr>\n",
       "      <th>Electrical</th>\n",
       "      <td>1</td>\n",
       "      <td>0.07</td>\n",
       "    </tr>\n",
       "  </tbody>\n",
       "</table>\n",
       "</div>"
      ],
      "text/plain": [
       "              Counts  Percentage\n",
       "PoolQC          1453       99.52\n",
       "MiscFeature     1406       96.30\n",
       "Alley           1369       93.77\n",
       "Fence           1179       80.75\n",
       "FireplaceQu      690       47.26\n",
       "LotFrontage      259       17.74\n",
       "GarageType        81        5.55\n",
       "GarageYrBlt       81        5.55\n",
       "GarageFinish      81        5.55\n",
       "GarageQual        81        5.55\n",
       "GarageCond        81        5.55\n",
       "BsmtExposure      38        2.60\n",
       "BsmtFinType2      38        2.60\n",
       "BsmtFinType1      37        2.53\n",
       "BsmtCond          37        2.53\n",
       "BsmtQual          37        2.53\n",
       "MasVnrArea         8        0.55\n",
       "MasVnrType         8        0.55\n",
       "Electrical         1        0.07"
      ]
     },
     "execution_count": 5,
     "metadata": {},
     "output_type": "execute_result"
    }
   ],
   "source": [
    "def checkDataWithNulls(data):\n",
    "    dataWithNulls = pd.DataFrame((data.isna() | data.isnull()).sum()[lambda x: x > 0])\n",
    "    dataWithNulls.rename(columns={0:'Counts'}, inplace=True)\n",
    "    dataWithNulls['Percentage'] = round(dataWithNulls.Counts*100/data.shape[0], 2)\n",
    "    print(\"Count of Columns with missing information:\", dataWithNulls.shape[0])\n",
    "    return None if(dataWithNulls.shape[0] == 0) else dataWithNulls.sort_values(by='Percentage', ascending=False) \n",
    "\n",
    "checkDataWithNulls(data)"
   ]
  },
  {
   "cell_type": "markdown",
   "id": "516f334f",
   "metadata": {},
   "source": [
    "- The columns PoolQC, MiscFeature & Alley have > 90% of data as NA. The Data Dictionary annotates the NA data to be a valid data for some of the columns. Hence, a data transformation can be done here. \n",
    "\n",
    "- However, as they are at 90%, it may not provide any insights to the model.\n",
    "\n"
   ]
  },
  {
   "cell_type": "code",
   "execution_count": 6,
   "id": "9e16eb52",
   "metadata": {},
   "outputs": [
    {
     "name": "stdout",
     "output_type": "stream",
     "text": [
      "0 Duplicate records found in the dataset\n"
     ]
    }
   ],
   "source": [
    "#### Check for Duplicates\n",
    "unique_data = data.drop_duplicates(inplace=False)\n",
    "print(unique_data.shape[0] - data.shape[0], \"Duplicate records found in the dataset\")"
   ]
  },
  {
   "cell_type": "markdown",
   "id": "cccba6ec",
   "metadata": {},
   "source": [
    "\n",
    "- 19 Columns of it have many null values. We need to look forward for cleaning those records... \n"
   ]
  },
  {
   "cell_type": "code",
   "execution_count": null,
   "id": "383d7c71",
   "metadata": {},
   "outputs": [],
   "source": []
  },
  {
   "cell_type": "code",
   "execution_count": 7,
   "id": "418108b0",
   "metadata": {},
   "outputs": [],
   "source": [
    "data.LotShape = data.LotShape.map({'Reg': 'Regular', 'IR1': 'SlightlyIrregular', 'IR2': 'ModeratelyIrregular', 'IR3': 'Irregular'})\n",
    "data.LotConfig = data.LotConfig.map({'Inside': 'Inside', 'Corner':'Corner', 'CulDSac': 'CulDSac', 'FR2': 'FrontageOn2Sides', 'FR3': 'FrontageOn3Sides'})\n",
    "\n",
    "data.LandContour = data.LandContour.map({'Lvl': 'NearFlat', 'Bnk': 'Banked', 'HLS': 'Hillside', 'Low': 'Depression'})\n",
    "data.LandSlope = data.LandSlope.map({'Gtl': 'Gentle', 'Mod': 'Moderate', 'Sev': 'Severe'})\n"
   ]
  },
  {
   "cell_type": "code",
   "execution_count": 8,
   "id": "12263f57",
   "metadata": {},
   "outputs": [
    {
     "name": "stdout",
     "output_type": "stream",
     "text": [
      "Count of Columns with missing information: 5\n"
     ]
    },
    {
     "data": {
      "text/html": [
       "<div>\n",
       "<style scoped>\n",
       "    .dataframe tbody tr th:only-of-type {\n",
       "        vertical-align: middle;\n",
       "    }\n",
       "\n",
       "    .dataframe tbody tr th {\n",
       "        vertical-align: top;\n",
       "    }\n",
       "\n",
       "    .dataframe thead th {\n",
       "        text-align: right;\n",
       "    }\n",
       "</style>\n",
       "<table border=\"1\" class=\"dataframe\">\n",
       "  <thead>\n",
       "    <tr style=\"text-align: right;\">\n",
       "      <th></th>\n",
       "      <th>Counts</th>\n",
       "      <th>Percentage</th>\n",
       "    </tr>\n",
       "  </thead>\n",
       "  <tbody>\n",
       "    <tr>\n",
       "      <th>LotFrontage</th>\n",
       "      <td>259</td>\n",
       "      <td>17.74</td>\n",
       "    </tr>\n",
       "    <tr>\n",
       "      <th>GarageYrBlt</th>\n",
       "      <td>81</td>\n",
       "      <td>5.55</td>\n",
       "    </tr>\n",
       "    <tr>\n",
       "      <th>MasVnrType</th>\n",
       "      <td>8</td>\n",
       "      <td>0.55</td>\n",
       "    </tr>\n",
       "    <tr>\n",
       "      <th>MasVnrArea</th>\n",
       "      <td>8</td>\n",
       "      <td>0.55</td>\n",
       "    </tr>\n",
       "    <tr>\n",
       "      <th>Electrical</th>\n",
       "      <td>1</td>\n",
       "      <td>0.07</td>\n",
       "    </tr>\n",
       "  </tbody>\n",
       "</table>\n",
       "</div>"
      ],
      "text/plain": [
       "             Counts  Percentage\n",
       "LotFrontage     259       17.74\n",
       "GarageYrBlt      81        5.55\n",
       "MasVnrType        8        0.55\n",
       "MasVnrArea        8        0.55\n",
       "Electrical        1        0.07"
      ]
     },
     "execution_count": 8,
     "metadata": {},
     "output_type": "execute_result"
    }
   ],
   "source": [
    "data.PoolQC = data.PoolQC.map({'Ex': 'Excellent', 'Gd': 'Good', 'TA': 'Average', 'Fa': 'Fair', np.nan: 'NoPool'})\n",
    "data.MiscFeature = data.MiscFeature.map({'Elev': 'Elevator', 'Gar2': '2ndGarage', 'Othr': 'Other', 'Shed': 'Shed', 'TenC': 'TennisCourt', np.nan: 'None'})\n",
    "data.Alley = data.Alley.map({'Grvl': 'Gravel', 'Pave': 'Paved', np.nan: 'NoAlley'})\n",
    "data.Fence = data.Fence.map({'GdPrv': 'GoodPrivacy', 'MnPrv': 'MinimumPrivacy', 'GdWo': 'GoodWood', 'MnWw': 'MinimumWoodWire', np.nan: 'NoFence'})\n",
    "\n",
    "data.FireplaceQu = data.FireplaceQu.map({'Ex': 'Excellent', 'Gd': 'Good', 'TA': 'Average', 'Fa': 'Fair', 'Po': 'Poor', np.nan: 'NoFireplace'})\n",
    "\n",
    "data.GarageType = data.GarageType.map({'2Types': 'MoreThanOneType', 'Attchd': 'AttachedToHome', 'Basment': 'BasementGarage', 'BuiltIn': 'BuiltIn', 'CarPort': 'CarPort', 'Detchd': 'Detached'})\n",
    "data.GarageType = data.GarageType.fillna('NoGarage')\n",
    "\n",
    "data.GarageFinish = data.GarageFinish.map({'Fin': 'Finished', 'RFn': 'RoughFinished', 'Unf': 'Unfinished', np.nan: 'NoGarage'})\n",
    "data.GarageQual = data.GarageQual.map({'Ex': 'Excellent', 'Gd': 'Good', 'TA': 'Average', 'Fa': 'Fair', 'Po': 'Poor', np.nan: 'NoGarage'})\n",
    "data.GarageCond = data.GarageCond.map({'Ex': 'Excellent', 'Gd': 'Good', 'TA': 'Average', 'Fa': 'Fair', 'Po': 'Poor', np.nan: 'NoGarage'})\n",
    "data.BsmtExposure = data.BsmtExposure.map({'Gd': 'GoodExposure', 'Av': 'Average', 'Mm': 'MinimumExposure', 'No': 'NoExposure', np.nan: 'NoBasement'})\n",
    "data.BsmtExposure = data.BsmtExposure.fillna('NoBasement')\n",
    "data.BsmtFinType1 = data.BsmtFinType1.fillna('NoBasement')\n",
    "data.BsmtFinType2 = data.BsmtFinType2.fillna('NoBasement')\n",
    "\n",
    "data.BsmtCond = data.BsmtCond.map({'Ex': 'Excellent', 'Gd': 'Good', 'TA': 'Typical', 'Fa': 'Fair', 'Po': 'Poor', np.nan: 'NoBasement'})\n",
    "data.BsmtQual = data.BsmtQual.map({'Ex': 'Excellent', 'Gd': 'Good', 'TA': 'Typical', 'Fa': 'Fair', 'Po': 'Poor', np.nan: 'NoBasement'})\n",
    "\n",
    "data.MasVnrType.fillna('None')\n",
    "data.MasVnrType = data.MasVnrType.map({'BrkCmn': 'BrickCommon', 'BrkFace': 'BrickFace', 'CBlock': 'CinderBlock', 'Stone': 'Stone', 'None': 'None'})\n",
    "data.MiscFeature = data.MiscFeature.fillna('None')\n",
    "data.Electrical.fillna(data.Electrical.mode(), inplace=True)\n",
    "data.Electrical = data.Electrical.map({'SBrkr': 'StandardCircuit', 'FuseA': 'FuseAverage', 'FuseF': 'FuseFair', 'FuseP': 'FusePoor', 'Mix': 'Mixed', np.nan: np.nan})\n",
    "checkDataWithNulls(data)"
   ]
  },
  {
   "cell_type": "markdown",
   "id": "8a01cd85",
   "metadata": {},
   "source": [
    "#### Impute Missing Data"
   ]
  },
  {
   "cell_type": "markdown",
   "id": "1ac84b4e",
   "metadata": {},
   "source": [
    "**LotFrontage: 259 Records have no data. The Column LotFrontage mentions about Linear feet of street connected to the property.. Since, we have no other information, we will proceed imputing this value with the median.\n",
    "    "
   ]
  },
  {
   "cell_type": "code",
   "execution_count": 9,
   "id": "5156f0ee",
   "metadata": {},
   "outputs": [],
   "source": [
    "data.LotFrontage = data.LotFrontage.fillna(data.LotFrontage.median())"
   ]
  },
  {
   "cell_type": "code",
   "execution_count": 10,
   "id": "ea866577",
   "metadata": {},
   "outputs": [],
   "source": [
    "data.MasVnrType = data.MasVnrType.fillna('None')\n",
    "data.MasVnrArea = data.MasVnrArea.fillna(data.MasVnrArea.median())"
   ]
  },
  {
   "cell_type": "code",
   "execution_count": 11,
   "id": "850eff4d",
   "metadata": {},
   "outputs": [],
   "source": [
    "data.GarageYrBlt = data.GarageYrBlt.fillna(0)"
   ]
  },
  {
   "cell_type": "code",
   "execution_count": 12,
   "id": "6c84e295",
   "metadata": {},
   "outputs": [
    {
     "name": "stdout",
     "output_type": "stream",
     "text": [
      "Count of Columns with missing information: 1\n"
     ]
    },
    {
     "data": {
      "text/html": [
       "<div>\n",
       "<style scoped>\n",
       "    .dataframe tbody tr th:only-of-type {\n",
       "        vertical-align: middle;\n",
       "    }\n",
       "\n",
       "    .dataframe tbody tr th {\n",
       "        vertical-align: top;\n",
       "    }\n",
       "\n",
       "    .dataframe thead th {\n",
       "        text-align: right;\n",
       "    }\n",
       "</style>\n",
       "<table border=\"1\" class=\"dataframe\">\n",
       "  <thead>\n",
       "    <tr style=\"text-align: right;\">\n",
       "      <th></th>\n",
       "      <th>Counts</th>\n",
       "      <th>Percentage</th>\n",
       "    </tr>\n",
       "  </thead>\n",
       "  <tbody>\n",
       "    <tr>\n",
       "      <th>Electrical</th>\n",
       "      <td>1</td>\n",
       "      <td>0.07</td>\n",
       "    </tr>\n",
       "  </tbody>\n",
       "</table>\n",
       "</div>"
      ],
      "text/plain": [
       "            Counts  Percentage\n",
       "Electrical       1        0.07"
      ]
     },
     "execution_count": 12,
     "metadata": {},
     "output_type": "execute_result"
    }
   ],
   "source": [
    "checkDataWithNulls(data)"
   ]
  },
  {
   "cell_type": "markdown",
   "id": "5c56f50d",
   "metadata": {},
   "source": [
    "#### Only one record has missing values and this can be dropped."
   ]
  },
  {
   "cell_type": "code",
   "execution_count": 13,
   "id": "06f99f0e",
   "metadata": {
    "scrolled": true
   },
   "outputs": [],
   "source": [
    "data.dropna(inplace=True)"
   ]
  },
  {
   "cell_type": "code",
   "execution_count": 14,
   "id": "1c923f77",
   "metadata": {},
   "outputs": [
    {
     "name": "stdout",
     "output_type": "stream",
     "text": [
      "Count of Columns with missing information: 0\n"
     ]
    }
   ],
   "source": [
    "checkDataWithNulls(data)"
   ]
  },
  {
   "cell_type": "code",
   "execution_count": null,
   "id": "291f1c09",
   "metadata": {},
   "outputs": [],
   "source": []
  }
 ],
 "metadata": {
  "kernelspec": {
   "display_name": "Python 3 (ipykernel)",
   "language": "python",
   "name": "python3"
  },
  "language_info": {
   "codemirror_mode": {
    "name": "ipython",
    "version": 3
   },
   "file_extension": ".py",
   "mimetype": "text/x-python",
   "name": "python",
   "nbconvert_exporter": "python",
   "pygments_lexer": "ipython3",
   "version": "3.9.13"
  }
 },
 "nbformat": 4,
 "nbformat_minor": 5
}
